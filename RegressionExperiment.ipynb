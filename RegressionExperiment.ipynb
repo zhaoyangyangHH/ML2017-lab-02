{
 "cells": [
  {
   "cell_type": "code",
   "execution_count": 19,
   "metadata": {
    "collapsed": true
   },
   "outputs": [],
   "source": [
    "from sklearn.datasets import load_svmlight_file\n",
    "import numpy as np\n",
    "from numpy import *\n",
    "import matplotlib.pyplot as plt\n",
    "from sklearn.externals.joblib import Memory\n"
   ]
  },
  {
   "cell_type": "code",
   "execution_count": 20,
   "metadata": {
    "collapsed": true
   },
   "outputs": [],
   "source": [
    "#参数设置\n",
    "train_file = \"C:/Users/Administrator/Desktop/deep learning experients/a9a.svm\"\n",
    "valid_file = \"C:/Users/Administrator/Desktop/deep learning experients/a9a.t\"\n",
    "#学习率\n",
    "learning_rate = 0.1 \n",
    "#迭代次数\n",
    "num_iter = 200\n",
    "#每次训练的batch\n",
    "k = 200  \n",
    "#逻辑回归参数\n",
    "eta = 0.001\n",
    "gamma = 0.9\n",
    "eps = 1e-8\n",
    "beta=0.9\n"
   ]
  },
  {
   "cell_type": "code",
   "execution_count": 21,
   "metadata": {
    "collapsed": true
   },
   "outputs": [],
   "source": [
    "#读取数据\n",
    "def get_data(filename):\n",
    "    data = load_svmlight_file(filename)\n",
    "    X=data[0].toarray()\n",
    "    y=data[1]\n",
    "    count = X.shape[0]\n",
    "    if filename=='C:/Users/Administrator/Desktop/deep learning experients/a9a.t':\n",
    "        X = np.column_stack((X, np.zeros((count, 1))))\n",
    "    np.c_[X, np.ones(count)]\n",
    "    return [X,y]"
   ]
  },
  {
   "cell_type": "code",
   "execution_count": 22,
   "metadata": {
    "collapsed": true
   },
   "outputs": [],
   "source": [
    "def sigmoid(inX):\n",
    "    return 1.0/(1.0+exp(-inX))\n"
   ]
  },
  {
   "cell_type": "code",
   "execution_count": 23,
   "metadata": {
    "collapsed": true
   },
   "outputs": [],
   "source": [
    "def NAG_stocGradAscent(dataMatrix, classLabels, X1, y1, weights):\n",
    "\n",
    "    m,n = shape(dataMatrix)\n",
    "    new_weights = weights\n",
    "    Loss_valid = []\n",
    "    v = zeros(n) \n",
    "    # NAG,初始化是否为零？\n",
    "    for j in range(num_iter):\n",
    "        loss_valid = compute_loss(new_weights, X1, y1)\n",
    "        Loss_valid.append(float(loss_valid))\n",
    "        if j%10==0:\n",
    "            print('iteration {0}: valid_loss={1}'.format(j, float(loss_valid)))\n",
    "        dataIndex = list(range(m))\n",
    "        for i in range(k):\n",
    "            weights_grad = zeros(n)  # initialize to all ones\n",
    "            temp_weights = new_weights - gamma * v\n",
    "            randIndex = int(random.uniform(0, len(dataIndex)))\n",
    "            h = sigmoid(sum(dataMatrix[randIndex]*temp_weights))\n",
    "            error = np.maximum(classLabels[randIndex], 0.0) - h\n",
    "            weights_grad = - error * dataMatrix[randIndex]\n",
    "            del (dataIndex[randIndex])\n",
    "            v = gamma * v + eta * weights_grad\n",
    "            new_weights = new_weights - v\n",
    "\n",
    "    return [new_weights, Loss_valid]\n"
   ]
  },
  {
   "cell_type": "code",
   "execution_count": 24,
   "metadata": {
    "collapsed": true
   },
   "outputs": [],
   "source": [
    "def RMSProp_stocGradAscent(dataMatrix, classLabels, X1, y1, weights):\n",
    "\n",
    "    m,n = shape(dataMatrix)\n",
    "    new_weights = weights\n",
    "    Loss_valid = []\n",
    "    g = zeros(n) \n",
    "    # RMSProp,每次初始化是否为零？\n",
    "    for j in range(num_iter):\n",
    "        loss_valid = compute_loss(new_weights, X1, y1)\n",
    "        Loss_valid.append(float(loss_valid))\n",
    "        if j%10==0:\n",
    "            print('iter {0}: valid_loss={1}'.format(j, float(loss_valid)))\n",
    "        dataIndex = list(range(m))\n",
    "        epsilon = ones(n)*eps\n",
    "        weights_grad = zeros(n)  \n",
    "        # initialize to all ones\n",
    "        for i in range(k):\n",
    "            randIndex = int(random.uniform(0, len(dataIndex)))\n",
    "            h = sigmoid(sum(dataMatrix[randIndex] * new_weights))\n",
    "            error = np.maximum(classLabels[randIndex], 0.0) - h\n",
    "            weights_grad = weights_grad - error * dataMatrix[randIndex]\n",
    "            del (dataIndex[randIndex])\n",
    "\n",
    "        g = gamma * g + (1 - gamma) * square(weights_grad/k)\n",
    "        new_weights = new_weights - eta * weights_grad / sqrt(g + epsilon)\n",
    "\n",
    "    return [new_weights, Loss_valid]"
   ]
  },
  {
   "cell_type": "code",
   "execution_count": 25,
   "metadata": {
    "collapsed": true
   },
   "outputs": [],
   "source": [
    "def AdaDelta_stocGradAscent(dataMatrix, classLabels, X1, y1, weights):\n",
    "\n",
    "    m,n = shape(dataMatrix)\n",
    "    new_weights = weights\n",
    "    Loss_valid = []\n",
    "    g = zeros(n)  \n",
    "    # RMSProp,每次初始化是否为零？\n",
    "    delta = zeros(n)    \n",
    "    #delta\n",
    "    for j in range(num_iter):\n",
    "        loss_valid = compute_loss(new_weights, X1, y1)\n",
    "        Loss_valid.append(float(loss_valid))\n",
    "        if j%10==0:\n",
    "            print('iter {0}: valid_loss={1}'.format(j, float(loss_valid)))\n",
    "        dataIndex = list(range(m))\n",
    "        epsilon = ones(n)*eps\n",
    "        weights_grad = zeros(n) \n",
    "        # initialize to all ones\n",
    "        for i in range(k):           \n",
    "            randIndex = int(random.uniform(0, len(dataIndex)))\n",
    "            h = sigmoid(sum(dataMatrix[randIndex] * new_weights))\n",
    "            error = np.maximum(classLabels[randIndex], 0.0) - h\n",
    "            weights_grad = weights_grad - error * dataMatrix[randIndex]\n",
    "            del (dataIndex[randIndex])\n",
    "\n",
    "        weights_grad = weights_grad / k\n",
    "        g = gamma * g + (1 - gamma) * square(weights_grad)\n",
    "        dx = sqrt(delta + epsilon) / sqrt(g + epsilon)\n",
    "        new_weights = new_weights - dx * weights_grad\n",
    "        delta = gamma * delta + (1-gamma) * square(dx * weights_grad)\n",
    "\n",
    "    return [new_weights, Loss_valid]"
   ]
  },
  {
   "cell_type": "code",
   "execution_count": 26,
   "metadata": {
    "collapsed": true
   },
   "outputs": [],
   "source": [
    "def Adam_stocGradAscent(dataMatrix, classLabels, X1, y1, weights):\n",
    "\n",
    "    m,n = shape(dataMatrix)\n",
    "    new_weights = weights\n",
    "    Loss_valid = []\n",
    "    g = zeros(n)  \n",
    "    # RMSProp,每次初始化是否为零？\n",
    "    moments = zeros(n)    \n",
    "    #moments\n",
    "    for j in range(num_iter):\n",
    "        loss_valid = compute_loss(new_weights, X1, y1)\n",
    "        Loss_valid.append(float(loss_valid))\n",
    "        if j%10==0:\n",
    "            print('iter {0}: valid_loss={1}'.format(j, float(loss_valid)))\n",
    "        dataIndex = list(range(m))\n",
    "        epsilon = ones(n)*eps\n",
    "        weights_grad = zeros(n) \n",
    "        # initialize to all ones\n",
    "        for i in range(k):\n",
    "            randIndex = int(random.uniform(0, len(dataIndex)))\n",
    "            h = sigmoid(sum(dataMatrix[randIndex] * new_weights))\n",
    "            error = np.maximum(classLabels[randIndex], 0.0) - h\n",
    "            weights_grad = weights_grad - error * dataMatrix[randIndex]\n",
    "            del (dataIndex[randIndex])\n",
    "\n",
    "        weights_grad = weights_grad / k\n",
    "        g = gamma * g + (1 - gamma) * square(weights_grad)\n",
    "        moments = beta * moments + (1 - beta) * weights_grad\n",
    "        alpha = eta * sqrt(1 - gamma**(j+1)) / (1 - beta**(j+1))\n",
    "        new_weights = new_weights - alpha * moments / sqrt(g + epsilon)\n",
    "\n",
    "    return [new_weights, Loss_valid]"
   ]
  },
  {
   "cell_type": "code",
   "execution_count": 27,
   "metadata": {
    "collapsed": true
   },
   "outputs": [],
   "source": [
    "def compute_loss(weights, dataMatrix, classLabels):\n",
    "\n",
    "    totalError = 0.0\n",
    "    count = dataMatrix.shape[0]\n",
    "    for i in range(0, count):\n",
    "        h = sigmoid(sum(dataMatrix[i]*weights))\n",
    "        totalError = totalError-np.maximum(classLabels[i],0)*log(h)-(1-np.maximum(classLabels[i],0))*log(1-h)\n",
    "\n",
    "    return totalError/float(count)"
   ]
  },
  {
   "cell_type": "code",
   "execution_count": 28,
   "metadata": {
    "collapsed": true
   },
   "outputs": [],
   "source": [
    "def NAG_plot_loss(y):\n",
    "    n = len(y)\n",
    "    plt.title('drawing graph of L_NAG  with the number of iterations In a9a and a9at data')\n",
    "    plt.xlabel('iteration times')\n",
    "    plt.ylabel('loss value')\n",
    "    plt.plot(range(n), array(y), color='r', label='L_NAG')\n",
    "    plt.show()\n"
   ]
  },
  {
   "cell_type": "code",
   "execution_count": 29,
   "metadata": {
    "collapsed": true
   },
   "outputs": [],
   "source": [
    "def RMSProp_plot_loss(y):\n",
    "    n = len(y)\n",
    "    plt.title('drawing graph of L_RMSProp  with the number of iterations In a9a and a9at data')\n",
    "    plt.xlabel('iteration times')\n",
    "    plt.ylabel('loss value')\n",
    "    plt.plot(range(n), array(y), color='y', label='L_RMSProp')\n",
    "    plt.show()"
   ]
  },
  {
   "cell_type": "code",
   "execution_count": 30,
   "metadata": {
    "collapsed": true
   },
   "outputs": [],
   "source": [
    "def AdaDelta_plot_loss(y):\n",
    "    n = len(y)\n",
    "    plt.title('drawing graph of L_AdaDelta  with the number of iterations In a9a and a9at data')\n",
    "    plt.xlabel('iteration times')\n",
    "    plt.ylabel('loss value')\n",
    "    plt.plot(range(n), array(y), color='g', label='L_AdaDelta')\n",
    "    plt.show()"
   ]
  },
  {
   "cell_type": "code",
   "execution_count": 31,
   "metadata": {
    "collapsed": true
   },
   "outputs": [],
   "source": [
    "def Adam_plot_loss(y):\n",
    "    n = len(y)\n",
    "    plt.title('drawing graph of L_Adam  with the number of iterations In a9a and a9at data')\n",
    "    plt.xlabel('iteration times')\n",
    "    plt.ylabel('loss value')\n",
    "    plt.plot(range(n), array(y), color='b', label='L_Adam')\n",
    "    plt.show()"
   ]
  },
  {
   "cell_type": "code",
   "execution_count": 32,
   "metadata": {
    "collapsed": true
   },
   "outputs": [],
   "source": [
    "def NAG_logistic_regression():\n",
    "\n",
    "    # 参数初始化\n",
    "    loss_valid = []\n",
    "    X,y = get_data(train_file)\n",
    "    X1,y1 = get_data(valid_file)\n",
    "    m,n=shape(X)\n",
    "    m1, n1 = shape(X1)\n",
    "    weights = zeros(n)\n",
    "    weights, loss_valid = NAG_stocGradAscent(X, y,X1,y1, weights)\n",
    "    NAG_plot_loss(loss_valid)\n"
   ]
  },
  {
   "cell_type": "code",
   "execution_count": 33,
   "metadata": {
    "collapsed": true
   },
   "outputs": [],
   "source": [
    "def RMSProp_logistic_regression():\n",
    "\n",
    "    # 参数初始化\n",
    "    loss_valid = []\n",
    "    X,y = get_data(train_file)\n",
    "    X1,y1 = get_data(valid_file)\n",
    "    m,n=shape(X)\n",
    "    m1, n1 = shape(X1)\n",
    "    weights = zeros(n)\n",
    "    weights, loss_valid = RMSProp_stocGradAscent(X, y,X1,y1, weights)\n",
    "    RMSProp_plot_loss(loss_valid)"
   ]
  },
  {
   "cell_type": "code",
   "execution_count": 34,
   "metadata": {
    "collapsed": true
   },
   "outputs": [],
   "source": [
    "def AdaDelta_logistic_regression():\n",
    "\n",
    "    # 参数初始化\n",
    "    loss_valid = []\n",
    "    X,y = get_data(train_file)\n",
    "    X1,y1 = get_data(valid_file)\n",
    "    m,n=shape(X)\n",
    "    m1, n1 = shape(X1)\n",
    "    weights = zeros(n)\n",
    "    weights, loss_valid = AdaDelta_stocGradAscent(X, y,X1,y1, weights)\n",
    "    AdaDelta_plot_loss(loss_valid)"
   ]
  },
  {
   "cell_type": "code",
   "execution_count": 35,
   "metadata": {
    "collapsed": true
   },
   "outputs": [],
   "source": [
    "def Adam_logistic_regression():\n",
    "\n",
    "    # 参数初始化\n",
    "    loss_valid = []\n",
    "    X,y = get_data(train_file)\n",
    "    X1,y1 = get_data(valid_file)\n",
    "    m,n=shape(X)\n",
    "    m1, n1 = shape(X1)\n",
    "    weights = zeros(n)\n",
    "    weights, loss_valid = Adam_stocGradAscent(X, y,X1,y1, weights)\n",
    "    Adam_plot_loss(loss_valid)"
   ]
  },
  {
   "cell_type": "code",
   "execution_count": 36,
   "metadata": {},
   "outputs": [
    {
     "name": "stdout",
     "output_type": "stream",
     "text": [
      "iteration 0: valid_loss=0.693147180560079\n",
      "iteration 10: valid_loss=0.3651824053862526\n",
      "iteration 20: valid_loss=0.34546912391299606\n",
      "iteration 30: valid_loss=0.33925711777337536\n",
      "iteration 40: valid_loss=0.3337930434467707\n",
      "iteration 50: valid_loss=0.3319710941878974\n",
      "iteration 60: valid_loss=0.3308026949214849\n",
      "iteration 70: valid_loss=0.3314932763565914\n",
      "iteration 80: valid_loss=0.3286367294211985\n",
      "iteration 90: valid_loss=0.3296518128371318\n",
      "iteration 100: valid_loss=0.329224010171609\n",
      "iteration 110: valid_loss=0.32931887140287425\n",
      "iteration 120: valid_loss=0.3281269900807728\n",
      "iteration 130: valid_loss=0.32704258672998726\n",
      "iteration 140: valid_loss=0.3273440271496287\n",
      "iteration 150: valid_loss=0.3267266369465034\n",
      "iteration 160: valid_loss=0.32908969818402106\n",
      "iteration 170: valid_loss=0.32697880082337294\n",
      "iteration 180: valid_loss=0.32691178173463176\n",
      "iteration 190: valid_loss=0.3259784661739495\n"
     ]
    },
    {
     "data": {
      "image/png": "[encoded data removed]",
      "text/plain": [
       "<matplotlib.figure.Figure at 0x1f7e4cf9080>"
      ]
     },
     "metadata": {},
     "output_type": "display_data"
    },
    {
     "name": "stdout",
     "output_type": "stream",
     "text": [
      "iter 0: valid_loss=0.693147180560079\n",
      "iter 10: valid_loss=0.4311417122012256\n",
      "iter 20: valid_loss=0.3777077408546135\n",
      "iter 30: valid_loss=0.5426517792611711\n",
      "iter 40: valid_loss=0.36643026538430395\n",
      "iter 50: valid_loss=0.42294250959753144\n",
      "iter 60: valid_loss=0.5755588771636636\n",
      "iter 70: valid_loss=0.6695394741662152\n",
      "iter 80: valid_loss=0.4567751124544811\n",
      "iter 90: valid_loss=0.4707055904375611\n",
      "iter 100: valid_loss=0.3505609445254162\n",
      "iter 110: valid_loss=0.464838817643041\n",
      "iter 120: valid_loss=0.34826536524310986\n",
      "iter 130: valid_loss=0.34646866886781313\n",
      "iter 140: valid_loss=0.43048597662701754\n",
      "iter 150: valid_loss=0.48519222402618956\n",
      "iter 160: valid_loss=0.41011199080214716\n",
      "iter 170: valid_loss=0.4373878386051951\n",
      "iter 180: valid_loss=0.3888578084772572\n",
      "iter 190: valid_loss=0.39718972008044806\n"
     ]
    },
    {
     "data": {
      "image/png": "[encoded data removed]",
      "text/plain": [
       "<matplotlib.figure.Figure at 0x1f7e4cf9be0>"
      ]
     },
     "metadata": {},
     "output_type": "display_data"
    },
    {
     "name": "stdout",
     "output_type": "stream",
     "text": [
      "iter 0: valid_loss=0.693147180560079\n",
      "iter 10: valid_loss=0.6814584689232671\n",
      "iter 20: valid_loss=0.6705375927808243\n",
      "iter 30: valid_loss=0.6593595705153741\n",
      "iter 40: valid_loss=0.6492759003016974\n",
      "iter 50: valid_loss=0.6392249895485279\n",
      "iter 60: valid_loss=0.6298715167778555\n",
      "iter 70: valid_loss=0.6200219941190455\n",
      "iter 80: valid_loss=0.6116875136123971\n",
      "iter 90: valid_loss=0.6033243342582716\n",
      "iter 100: valid_loss=0.5953736713264672\n",
      "iter 110: valid_loss=0.5872937168465884\n",
      "iter 120: valid_loss=0.5796753703614163\n",
      "iter 130: valid_loss=0.5722534377131188\n",
      "iter 140: valid_loss=0.5653658301703121\n",
      "iter 150: valid_loss=0.5588872223909358\n",
      "iter 160: valid_loss=0.5528161701826936\n",
      "iter 170: valid_loss=0.5466654485976955\n",
      "iter 180: valid_loss=0.5408329585536857\n",
      "iter 190: valid_loss=0.5350162750910048\n"
     ]
    },
    {
     "data": {
      "image/png": "[encoded data removed]",
      "text/plain": [
       "<matplotlib.figure.Figure at 0x1f7e4ef0208>"
      ]
     },
     "metadata": {},
     "output_type": "display_data"
    },
    {
     "name": "stdout",
     "output_type": "stream",
     "text": [
      "iter 0: valid_loss=0.693147180560079\n",
      "iter 10: valid_loss=0.6599335420507544\n",
      "iter 20: valid_loss=0.630545429925415\n",
      "iter 30: valid_loss=0.6045222961264153\n",
      "iter 40: valid_loss=0.5816042134298568\n",
      "iter 50: valid_loss=0.5611713669520687\n",
      "iter 60: valid_loss=0.5431723678513589\n",
      "iter 70: valid_loss=0.5274321681839108\n",
      "iter 80: valid_loss=0.5135599465923839\n",
      "iter 90: valid_loss=0.5014099720661402\n",
      "iter 100: valid_loss=0.4905188150044363\n",
      "iter 110: valid_loss=0.48086490746835064\n",
      "iter 120: valid_loss=0.47235567996228245\n",
      "iter 130: valid_loss=0.46468809514711745\n",
      "iter 140: valid_loss=0.4576662458390286\n",
      "iter 150: valid_loss=0.45100744919063696\n",
      "iter 160: valid_loss=0.4449008134284623\n",
      "iter 170: valid_loss=0.4390611677519964\n",
      "iter 180: valid_loss=0.433355934600299\n",
      "iter 190: valid_loss=0.42803200762033605\n"
     ]
    },
    {
     "data": {
      "image/png": "[encoded data removed]",
      "text/plain": [
       "<matplotlib.figure.Figure at 0x1f7e4f20780>"
      ]
     },
     "metadata": {},
     "output_type": "display_data"
    }
   ],
   "source": [
    "if __name__ =='__main__':\n",
    "\n",
    "    NAG_logistic_regression()\n",
    "    RMSProp_logistic_regression()\n",
    "    AdaDelta_logistic_regression()\n",
    "    Adam_logistic_regression()"
   ]
  },
  {
   "cell_type": "code",
   "execution_count": null,
   "metadata": {
    "collapsed": true
   },
   "outputs": [],
   "source": []
  }
 ],
 "metadata": {
  "kernelspec": {
   "display_name": "Python 3",
   "language": "python",
   "name": "python3"
  },
  "language_info": {
   "codemirror_mode": {
    "name": "ipython",
    "version": 3
   },
   "file_extension": ".py",
   "mimetype": "text/x-python",
   "name": "python",
   "nbconvert_exporter": "python",
   "pygments_lexer": "ipython3",
   "version": "3.6.1"
  }
 },
 "nbformat": 4,
 "nbformat_minor": 2
}
