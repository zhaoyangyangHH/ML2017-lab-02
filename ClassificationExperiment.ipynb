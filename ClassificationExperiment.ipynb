{
 "cells": [
  {
   "cell_type": "code",
   "execution_count": 51,
   "metadata": {},
   "outputs": [],
   "source": [
    "from sklearn.datasets import load_svmlight_file\n",
    "from sklearn.cross_validation import train_test_split\n",
    "from numpy import *\n",
    "import numpy as np\n",
    "import matplotlib.pyplot as plt\n",
    "import timeit"
   ]
  },
  {
   "cell_type": "code",
   "execution_count": 52,
   "metadata": {
    "collapsed": true
   },
   "outputs": [],
   "source": [
    "#参数设置\n",
    "train_file = \"C:/Users/Administrator/Desktop/deep learning experients/a9a.svm\"\n",
    "valid_file = \"C:/Users/Administrator/Desktop/deep learning experients/a9a.t\"\n",
    "reg = 1\n",
    "#最大迭代次数\n",
    "num_iter = 200  \n",
    "#每次训练的batch\n",
    "k = 100  \n",
    "eta = 0.01\n",
    "gamma = 0.9\n",
    "eps = 1e-8\n",
    "beta=0.9"
   ]
  },
  {
   "cell_type": "code",
   "execution_count": 53,
   "metadata": {
    "collapsed": true
   },
   "outputs": [],
   "source": [
    "def classify(label):\n",
    "    if label == 1: return 1\n",
    "    else: return 0"
   ]
  },
  {
   "cell_type": "code",
   "execution_count": 54,
   "metadata": {
    "collapsed": true
   },
   "outputs": [],
   "source": [
    "#训练及优化\n",
    "def NAG_stocGradAscent(dataMatrix, classLabels, X1, y1, weights):\n",
    "\n",
    "    new_weights = weights\n",
    "    m, n = shape(dataMatrix)\n",
    "    Loss_valid = []\n",
    "    monu = mat(np.zeros((n,2))) \n",
    "    # NAG,初始化是否为零？\n",
    "    for j in range(num_iter):\n",
    "        loss_valid = compute_loss(new_weights, X1, y1)\n",
    "        Loss_valid.append(float(loss_valid))\n",
    "        if j % 10 == 0:\n",
    "            print('iter {0}: valid_loss={1}'.format(j, float(loss_valid)))\n",
    "        new_weights = NAG_compute_gradient(new_weights, dataMatrix, classLabels, monu)\n",
    "\n",
    "    return [new_weights, Loss_valid]"
   ]
  },
  {
   "cell_type": "code",
   "execution_count": 55,
   "metadata": {
    "collapsed": true
   },
   "outputs": [],
   "source": [
    "#训练及优化\n",
    "def RMSProp_stocGradAscent(dataMatrix, classLabels, X1, y1, weights):\n",
    "\n",
    "    new_weights = weights\n",
    "    m, n = shape(dataMatrix)\n",
    "    Loss_valid = []\n",
    "    g = mat(np.zeros((n, 2))) \n",
    "    # 初始化是否为零？\n",
    "    for j in range(num_iter):\n",
    "        loss_valid = compute_loss(new_weights, X1, y1)\n",
    "        Loss_valid.append(float(loss_valid))\n",
    "        if j % 10 == 0:\n",
    "            print('iter {0}: valid_loss={1}'.format(j, float(loss_valid)))\n",
    "        new_weights = RMSProp_compute_gradient(new_weights, dataMatrix, classLabels, g)\n",
    "\n",
    "    return [new_weights, Loss_valid]"
   ]
  },
  {
   "cell_type": "code",
   "execution_count": 56,
   "metadata": {
    "collapsed": true
   },
   "outputs": [],
   "source": [
    "#训练及优化\n",
    "def AdaDelta_stocGradAscent(dataMatrix, classLabels, X1, y1, weights):\n",
    "\n",
    "    new_weights = weights\n",
    "    m, n = shape(dataMatrix)\n",
    "    Loss_valid = []\n",
    "    g = mat(np.zeros((n, 2))) # 初始化是否为零？\n",
    "    delta = mat(np.zeros((n, 2)))  # delta\n",
    "    for j in range(num_iter):\n",
    "        loss_valid = compute_loss(new_weights, X1, y1)\n",
    "        Loss_valid.append(float(loss_valid))\n",
    "        if j % 10 == 0:\n",
    "            print('iter {0}: valid_loss={1}'.format(j, float(loss_valid)))\n",
    "        new_weights = AdaDelta_compute_gradient(new_weights, dataMatrix, classLabels, g,delta)\n",
    "\n",
    "    return [new_weights, Loss_valid]"
   ]
  },
  {
   "cell_type": "code",
   "execution_count": 57,
   "metadata": {
    "collapsed": true
   },
   "outputs": [],
   "source": [
    "#训练及优化\n",
    "def Adam_stocGradAscent(dataMatrix, classLabels, X1, y1, weights):\n",
    "\n",
    "    new_weights = weights\n",
    "    m, n = shape(dataMatrix)\n",
    "    Loss_valid = []\n",
    "    g = mat(np.zeros((n, 2))) # 初始化是否为零？\n",
    "    moments = mat(np.zeros((n, 2)))  # delta\n",
    "    for j in range(num_iter):\n",
    "        loss_valid = compute_loss(new_weights, X1, y1)\n",
    "        Loss_valid.append(float(loss_valid))\n",
    "        if j % 10 == 0:\n",
    "            print('iter {0}: valid_loss={1}'.format(j, float(loss_valid)))\n",
    "        new_weights = Adam_compute_gradient(new_weights, dataMatrix, classLabels, g, moments,j)\n",
    "\n",
    "    return [new_weights, Loss_valid]"
   ]
  },
  {
   "cell_type": "code",
   "execution_count": 58,
   "metadata": {
    "collapsed": true
   },
   "outputs": [],
   "source": [
    "#梯度更新\n",
    "def NAG_compute_gradient(w_current,data,label,monu):\n",
    "    #start_time = timeit.default_timer()\n",
    "    m, n = shape(data)\n",
    "    dataIndex = list(range(m))\n",
    "    new_weights = w_current\n",
    "    w_gradient = np.zeros((n, 2))  # n*2\n",
    "    for i in range(k):\n",
    "        temp_weights = new_weights - gamma * monu\n",
    "        randIndex = int(random.uniform(0, len(dataIndex)))\n",
    "        v = data[randIndex, :]  #1*n\n",
    "        score=predict(temp_weights, v) #1*2\n",
    "        correct_score=classify(label[randIndex])\n",
    "        for j in range(2):\n",
    "            if j==correct_score:   #classify(label[i])=correct_score\n",
    "                continue\n",
    "            margin = score[0, j]-correct_score+1\n",
    "            if margin > 0:\n",
    "                w_gradient[:,correct_score] = w_gradient[:,correct_score] - v\n",
    "                w_gradient[:,j] = w_gradient[:,j] + v\n",
    "        del (dataIndex[randIndex])\n",
    "    w_gradient /= k\n",
    "    w_gradient += 2*reg*new_weights\n",
    "    monu = gamma * monu + eta * w_gradient\n",
    "    new_weights = new_weights - monu\n",
    "\n",
    "    # end_time = timeit.default_timer()\n",
    "    # print(end_time - start_time)\n",
    "    return new_weights"
   ]
  },
  {
   "cell_type": "code",
   "execution_count": 59,
   "metadata": {
    "collapsed": true
   },
   "outputs": [],
   "source": [
    "def RMSProp_compute_gradient(w_current,data,label,g):\n",
    "\n",
    "    #start_time = timeit.default_timer()\n",
    "    m, n = shape(data)\n",
    "    dataIndex = list(range(m))\n",
    "    new_weights = w_current\n",
    "    epsilon = np.ones((n,2)) * eps\n",
    "    w_gradient = np.zeros((n, 2))  # n*2\n",
    "    for i in range(k):\n",
    "        randIndex = int(random.uniform(0, len(dataIndex)))\n",
    "        v = data[randIndex, :]  #1*n\n",
    "        score=predict(new_weights, v) #1*2\n",
    "        correct_score=classify(label[randIndex])\n",
    "        for j in range(2):\n",
    "            if j==correct_score:   #classify(label[i])=correct_score\n",
    "                continue\n",
    "            margin = score[0, j]-correct_score+1\n",
    "            if margin > 0:\n",
    "                w_gradient[:,correct_score] = w_gradient[:,correct_score] - v\n",
    "                w_gradient[:,j] = w_gradient[:,j] + v\n",
    "        del (dataIndex[randIndex])\n",
    "    w_gradient /= k\n",
    "    w_gradient += 2*reg*new_weights\n",
    "    g = gamma * g + (1 - gamma) * square(w_gradient)    #矩阵加数组平方？点操作\n",
    "    new_weights = new_weights - eta * w_gradient / sqrt(g + epsilon)    #点操作？\n",
    "\n",
    "    # end_time = timeit.default_timer()\n",
    "    # print(end_time - start_time)\n",
    "    return new_weights"
   ]
  },
  {
   "cell_type": "code",
   "execution_count": 60,
   "metadata": {
    "collapsed": true
   },
   "outputs": [],
   "source": [
    "#梯度更新\n",
    "def AdaDelta_compute_gradient(w_current,data,label,g,delta):\n",
    "\n",
    "    m, n = shape(data)\n",
    "    dataIndex = list(range(m))\n",
    "    new_weights = w_current\n",
    "    epsilon = np.ones((n,2)) * eps\n",
    "    w_gradient = np.zeros((n, 2))  # n*2\n",
    "    for i in range(k):\n",
    "        randIndex = int(random.uniform(0, len(dataIndex)))\n",
    "        v = data[randIndex, :]  #1*n\n",
    "        score=predict(new_weights, v) #1*2\n",
    "        correct_score=classify(label[randIndex])\n",
    "        for j in range(2):\n",
    "            if j==correct_score:   #classify(label[i])=correct_score\n",
    "                continue\n",
    "            margin = score[0, j]-correct_score+1\n",
    "            if margin > 0:\n",
    "                w_gradient[:,correct_score] = w_gradient[:,correct_score] - v\n",
    "                w_gradient[:,j] = w_gradient[:,j] + v\n",
    "        del (dataIndex[randIndex])\n",
    "    w_gradient /= k\n",
    "    w_gradient += 2*reg*new_weights\n",
    "    g = gamma * g + (1 - gamma) * square(w_gradient)    #矩阵加数组平方？点操作\n",
    "    dx = sqrt(delta + epsilon) / sqrt(g + epsilon)\n",
    "    new_weights = new_weights - dx.A * w_gradient\n",
    "    delta = gamma * delta + (1-gamma) * square(dx.A * w_gradient)\n",
    "\n",
    "    return new_weights"
   ]
  },
  {
   "cell_type": "code",
   "execution_count": 61,
   "metadata": {
    "collapsed": true
   },
   "outputs": [],
   "source": [
    "#梯度更新\n",
    "def Adam_compute_gradient(w_current,data,label,g,moments,j):\n",
    "\n",
    "    m, n = shape(data)\n",
    "    dataIndex = list(range(m))\n",
    "    new_weights = w_current\n",
    "    epsilon = np.ones((n,2)) * eps\n",
    "    w_gradient = np.zeros((n, 2))  # n*2\n",
    "    for i in range(k):\n",
    "        randIndex = int(random.uniform(0, len(dataIndex)))\n",
    "        v = data[randIndex, :]  #1*n\n",
    "        score=predict(new_weights, v) #1*2\n",
    "        correct_score=classify(label[randIndex])\n",
    "        for j in range(2):\n",
    "            if j==correct_score:   #classify(label[i])=correct_score\n",
    "                continue\n",
    "            margin = score[0, j]-correct_score+1\n",
    "            if margin > 0:\n",
    "                w_gradient[:,correct_score] = w_gradient[:,correct_score] - v\n",
    "                w_gradient[:,j] = w_gradient[:,j] + v\n",
    "        del (dataIndex[randIndex])\n",
    "    w_gradient /= k\n",
    "    w_gradient += 2*reg*new_weights\n",
    "    g = gamma * g + (1 - gamma) * square(w_gradient)    #矩阵加数组平方？点操作\n",
    "    moments = beta * moments + (1 - beta) * w_gradient\n",
    "    alpha = eta * sqrt(1 - gamma ** (j + 1)) / (1 - beta ** (j + 1))\n",
    "    new_weights = new_weights - alpha * moments / sqrt(g + epsilon)\n",
    "\n",
    "    return new_weights"
   ]
  },
  {
   "cell_type": "code",
   "execution_count": 62,
   "metadata": {
    "collapsed": true
   },
   "outputs": [],
   "source": [
    "def predict(w,v):\n",
    "    return v*w  #1*M * M*2 = 1*2"
   ]
  },
  {
   "cell_type": "code",
   "execution_count": 63,
   "metadata": {
    "collapsed": true
   },
   "outputs": [],
   "source": [
    "#计算Loss函数值\n",
    "def compute_loss(w, data, label):\n",
    "    #start_time = timeit.default_timer()\n",
    "    N, M = shape(data)\n",
    "    loss=0.0\n",
    "    for i in range(N):\n",
    "        v = data[i, :]  #1*M\n",
    "        score=predict(w, v) #1*2\n",
    "        correct_score = classify(label[i])\n",
    "        for j in range(2):\n",
    "            if j==correct_score:\n",
    "                continue\n",
    "            margin = score[0, j]-correct_score+1\n",
    "            if margin>0:\n",
    "                loss+=margin\n",
    "    loss/=N\n",
    "    # end_time = timeit.default_timer()\n",
    "    # print(end_time - start_time)\n",
    "    return loss"
   ]
  },
  {
   "cell_type": "code",
   "execution_count": 64,
   "metadata": {
    "collapsed": true
   },
   "outputs": [],
   "source": [
    "#读入数据\n",
    "def get_data(filename):\n",
    "\n",
    "    data = load_svmlight_file(filename)\n",
    "    X=data[0].toarray()\n",
    "    y=data[1]\n",
    "    count = X.shape[0]\n",
    "    if filename==\"C:/Users/Administrator/Desktop/deep learning experients/a9a.t\":\n",
    "        X = np.column_stack((X, np.zeros((count, 1))))\n",
    "    np.c_[X, np.ones(count)]\n",
    "    return [X, y]"
   ]
  },
  {
   "cell_type": "code",
   "execution_count": 65,
   "metadata": {
    "collapsed": true
   },
   "outputs": [],
   "source": [
    "def plot_loss(y2):\n",
    "\n",
    "    #plt.plot(y1, label='train_loss')\n",
    "    plt.plot(y2, label='valid_loss')\n",
    "    plt.legend()\n",
    "    plt.xlabel('iteration');\n",
    "    plt.ylabel('Loss');\n",
    "    plt.show()"
   ]
  },
  {
   "cell_type": "code",
   "execution_count": 66,
   "metadata": {
    "collapsed": true
   },
   "outputs": [],
   "source": [
    "def NAG_linear_classification():\n",
    "\n",
    "    # 参数初始化\n",
    "    loss_valid = []\n",
    "    X,y = get_data(train_file)\n",
    "    X1,y1 = get_data(valid_file)\n",
    "    m, n = shape(X)\n",
    "    m1, n1 = shape(X1)\n",
    "    weights = mat(np.zeros((n,2)))\n",
    "    weights, loss_valid = NAG_stocGradAscent(X, y, X1, y1, weights)\n",
    "    plot_loss(loss_valid)"
   ]
  },
  {
   "cell_type": "code",
   "execution_count": 67,
   "metadata": {
    "collapsed": true
   },
   "outputs": [],
   "source": [
    "def RMSProp_linear_classification():\n",
    "\n",
    "    # 参数初始化\n",
    "    loss_valid = []\n",
    "    X,y = get_data(train_file)\n",
    "    X1,y1 = get_data(valid_file)\n",
    "    m, n = shape(X)\n",
    "    m1, n1 = shape(X1)\n",
    "    weights = mat(np.zeros((n,2)))\n",
    "    weights, loss_valid = RMSProp_stocGradAscent(X, y, X1, y1, weights)\n",
    "    plot_loss(loss_valid)"
   ]
  },
  {
   "cell_type": "code",
   "execution_count": 68,
   "metadata": {
    "collapsed": true
   },
   "outputs": [],
   "source": [
    "def AdaDelta_linear_classification():\n",
    "\n",
    "    # 参数初始化\n",
    "    loss_valid = []\n",
    "    X,y = get_data(train_file)\n",
    "    X1,y1 = get_data(valid_file)\n",
    "    m, n = shape(X)\n",
    "    m1, n1 = shape(X1)\n",
    "    weights = mat(np.zeros((n,2)))\n",
    "    weights, loss_valid = AdaDelta_stocGradAscent(X, y, X1, y1, weights)\n",
    "    plot_loss(loss_valid)"
   ]
  },
  {
   "cell_type": "code",
   "execution_count": 69,
   "metadata": {
    "collapsed": true
   },
   "outputs": [],
   "source": [
    "def Adam_linear_classification():\n",
    "\n",
    "    # 参数初始化\n",
    "    loss_valid = []\n",
    "    X,y = get_data(train_file)\n",
    "    X1,y1 = get_data(valid_file)\n",
    "    m, n = shape(X)\n",
    "    m1, n1 = shape(X1)\n",
    "    weights = mat(np.zeros((n,2)))\n",
    "    weights, loss_valid = Adam_stocGradAscent(X, y, X1, y1, weights)\n",
    "    plot_loss(loss_valid)"
   ]
  },
  {
   "cell_type": "code",
   "execution_count": 70,
   "metadata": {
    "scrolled": false
   },
   "outputs": [
    {
     "name": "stdout",
     "output_type": "stream",
     "text": [
      "L_NAG\n",
      "iter 0: valid_loss=0.7637737239727289\n",
      "iter 10: valid_loss=0.5791030080935679\n",
      "iter 20: valid_loss=0.4462307065014906\n",
      "iter 30: valid_loss=0.35994204492743426\n",
      "iter 40: valid_loss=0.28133606983015047\n",
      "iter 50: valid_loss=0.26207121059992633\n",
      "iter 60: valid_loss=0.2630347382426421\n",
      "iter 70: valid_loss=0.25706500150028605\n",
      "iter 80: valid_loss=0.2617746622210423\n",
      "iter 90: valid_loss=0.2605518097146596\n",
      "iter 100: valid_loss=0.25761949571470877\n",
      "iter 110: valid_loss=0.26245108528440503\n",
      "iter 120: valid_loss=0.25816619404063046\n",
      "iter 130: valid_loss=0.25744425498274476\n",
      "iter 140: valid_loss=0.256033507303471\n",
      "iter 150: valid_loss=0.2568121450577297\n",
      "iter 160: valid_loss=0.25371333897416437\n",
      "iter 170: valid_loss=0.2543178908601462\n",
      "iter 180: valid_loss=0.2579516018803413\n",
      "iter 190: valid_loss=0.25801858020089097\n"
     ]
    },
    {
     "data": {
      "image/png": "[encoded data removed]",
      "text/plain": [
       "<matplotlib.figure.Figure at 0x27fa92bd588>"
      ]
     },
     "metadata": {},
     "output_type": "display_data"
    },
    {
     "name": "stdout",
     "output_type": "stream",
     "text": [
      "L_RMSProp\n",
      "iter 0: valid_loss=0.7637737239727289\n",
      "iter 10: valid_loss=0.3991956358807924\n",
      "iter 20: valid_loss=0.3707731246535399\n",
      "iter 30: valid_loss=0.37943371616895155\n",
      "iter 40: valid_loss=0.38728223214714086\n",
      "iter 50: valid_loss=0.37238292940634743\n",
      "iter 60: valid_loss=0.3930667152390012\n",
      "iter 70: valid_loss=0.3482044041696296\n",
      "iter 80: valid_loss=0.389394889774584\n",
      "iter 90: valid_loss=0.35901522871387814\n",
      "iter 100: valid_loss=0.3649494677016352\n",
      "iter 110: valid_loss=0.3796813243010055\n",
      "iter 120: valid_loss=0.3851629593627352\n",
      "iter 130: valid_loss=0.39519086428478045\n",
      "iter 140: valid_loss=0.23359796758137544\n",
      "iter 150: valid_loss=0.24523572166264454\n",
      "iter 160: valid_loss=0.24549766063908599\n",
      "iter 170: valid_loss=0.23325475930493625\n",
      "iter 180: valid_loss=0.2464207060629889\n",
      "iter 190: valid_loss=0.2358068501412654\n"
     ]
    },
    {
     "data": {
      "image/png": "[encoded data removed]",
      "text/plain": [
       "<matplotlib.figure.Figure at 0x27fa923e6a0>"
      ]
     },
     "metadata": {},
     "output_type": "display_data"
    },
    {
     "name": "stdout",
     "output_type": "stream",
     "text": [
      "L_AdaDelta\n",
      "iter 0: valid_error=0.7637737239727289\n",
      "iter 10: valid_error=0.741941268920667\n",
      "iter 20: valid_error=0.7200801811842926\n",
      "iter 30: valid_error=0.6988103647803365\n",
      "iter 40: valid_error=0.678186668922422\n",
      "iter 50: valid_error=0.6576793991582343\n",
      "iter 60: valid_error=0.6372744808495122\n",
      "iter 70: valid_error=0.6172155448723597\n",
      "iter 80: valid_error=0.5968510702745204\n",
      "iter 90: valid_error=0.5776495201008289\n",
      "iter 100: valid_error=0.5591479811414768\n",
      "iter 110: valid_error=0.5410056833930534\n",
      "iter 120: valid_error=0.522288508439602\n",
      "iter 130: valid_error=0.5041440287112297\n",
      "iter 140: valid_error=0.48633139296544914\n",
      "iter 150: valid_error=0.46904586693417516\n",
      "iter 160: valid_error=0.45148114057033956\n",
      "iter 170: valid_error=0.4340614552896812\n",
      "iter 180: valid_error=0.4173765597609939\n",
      "iter 190: valid_error=0.401016498853686\n"
     ]
    },
    {
     "data": {
      "image/png": "[encoded data removed]",
      "text/plain": [
       "<matplotlib.figure.Figure at 0x27fa91dfbe0>"
      ]
     },
     "metadata": {},
     "output_type": "display_data"
    },
    {
     "name": "stdout",
     "output_type": "stream",
     "text": [
      "L_Adam\n",
      "iter 0: valid_error=0.7637737239727289\n",
      "iter 10: valid_error=0.3329579053521411\n",
      "iter 20: valid_error=0.2547038424264827\n",
      "iter 30: valid_error=0.2762742763546322\n",
      "iter 40: valid_error=0.2748746035963084\n",
      "iter 50: valid_error=0.24142056634400635\n",
      "iter 60: valid_error=0.24460512575050783\n",
      "iter 70: valid_error=0.26227226022620836\n",
      "iter 80: valid_error=0.2599158730729486\n",
      "iter 90: valid_error=0.270264818483559\n",
      "iter 100: valid_error=0.24759744884731966\n",
      "iter 110: valid_error=0.27011648088748286\n",
      "iter 120: valid_error=0.24555920418350752\n",
      "iter 130: valid_error=0.24245647637719125\n",
      "iter 140: valid_error=0.2511031626987859\n",
      "iter 150: valid_error=0.27714073640724785\n",
      "iter 160: valid_error=0.2885556531584563\n",
      "iter 170: valid_error=0.273933173696507\n",
      "iter 180: valid_error=0.24440789113009917\n",
      "iter 190: valid_error=0.2792558968949294\n"
     ]
    },
    {
     "data": {
      "image/png": "[encoded data removed]",
      "text/plain": [
       "<matplotlib.figure.Figure at 0x27fa91ed978>"
      ]
     },
     "metadata": {},
     "output_type": "display_data"
    }
   ],
   "source": [
    "if __name__ =='__main__':\n",
    "    print(\"L_NAG\")\n",
    "    NAG_linear_classification()\n",
    "    print(\"L_RMSProp\")\n",
    "    RMSProp_linear_classification()\n",
    "    print(\"L_AdaDelta\")\n",
    "    AdaDelta_linear_classification()\n",
    "    print(\"L_Adam\")\n",
    "    Adam_linear_classification()"
   ]
  },
  {
   "cell_type": "code",
   "execution_count": null,
   "metadata": {
    "collapsed": true
   },
   "outputs": [],
   "source": []
  }
 ],
 "metadata": {
  "kernelspec": {
   "display_name": "Python 3",
   "language": "python",
   "name": "python3"
  },
  "language_info": {
   "codemirror_mode": {
    "name": "ipython",
    "version": 3
   },
   "file_extension": ".py",
   "mimetype": "text/x-python",
   "name": "python",
   "nbconvert_exporter": "python",
   "pygments_lexer": "ipython3",
   "version": "3.6.1"
  }
 },
 "nbformat": 4,
 "nbformat_minor": 2
}
